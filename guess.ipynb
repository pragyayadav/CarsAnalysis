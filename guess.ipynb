{
  "nbformat": 4,
  "nbformat_minor": 0,
  "metadata": {
    "name": "guess",
    "notebookId": 3746,
    "colab": {
      "name": "guess.ipynb",
      "provenance": [],
      "include_colab_link": true
    }
  },
  "cells": [
    {
      "cell_type": "markdown",
      "metadata": {
        "id": "view-in-github",
        "colab_type": "text"
      },
      "source": [
        "<a href=\"https://colab.research.google.com/github/pragyayadav/CarsAnalysis/blob/main/guess.ipynb\" target=\"_parent\"><img src=\"https://colab.research.google.com/assets/colab-badge.svg\" alt=\"Open In Colab\"/></a>"
      ]
    },
    {
      "cell_type": "markdown",
      "metadata": {
        "id": "30FQ4P4twXZD"
      },
      "source": [
        "### Guess the Car Model in an Image\n",
        "\n",
        "The Image will be read in from a url."
      ]
    },
    {
      "cell_type": "code",
      "metadata": {
        "id": "3u1-i1cywXZI"
      },
      "source": [
        "import json\n",
        "import os\n",
        "import random\n",
        "import numpy as np\n",
        "\n",
        "import cv2 as cv\n",
        "import keras.backend as K\n",
        "import numpy as np\n",
        "import scipy.io\n",
        "\n",
        "from PIL import Image\n",
        "import requests\n",
        "from io import BytesIO"
      ],
      "execution_count": null,
      "outputs": []
    },
    {
      "cell_type": "code",
      "metadata": {
        "id": "qCrulbnewXZK"
      },
      "source": [
        "%run \"/Users/evan@datainsights.de/resnets_utils\""
      ],
      "execution_count": null,
      "outputs": []
    },
    {
      "cell_type": "code",
      "metadata": {
        "id": "OWuZLsTvwXZL"
      },
      "source": [
        "%run \"/Users/evan@datainsights.de/scale_layer\""
      ],
      "execution_count": null,
      "outputs": []
    },
    {
      "cell_type": "code",
      "metadata": {
        "id": "AyIkznQCwXZM"
      },
      "source": [
        "%run \"/Users/evan@datainsights.de/res_net\""
      ],
      "execution_count": null,
      "outputs": []
    },
    {
      "cell_type": "markdown",
      "metadata": {
        "id": "EVzs_c9RwXZN"
      },
      "source": [
        "### Import the Model and Load the Pre-Trained Weights\n",
        "This could take a minute or two"
      ]
    },
    {
      "cell_type": "code",
      "metadata": {
        "id": "eZKjaO4uwXZO"
      },
      "source": [
        "img_width, img_height = 224, 224\n",
        "model = load_model_weights()\n",
        "model.load_weights('/dbfs/evan/weights.best.hdf5')\n",
        "\n",
        "cars_meta = scipy.io.loadmat('/dbfs/evan/cars_meta')\n",
        "class_names = cars_meta['class_names']  # shape=(1, 196)\n",
        "class_names = np.transpose(class_names)"
      ],
      "execution_count": null,
      "outputs": []
    },
    {
      "cell_type": "markdown",
      "metadata": {
        "id": "pMlQU7dywXZO"
      },
      "source": [
        "### Define the Guess Function\n",
        "This reads in a url, and then puts the corresponding image through the neural network to make a prediction about the car"
      ]
    },
    {
      "cell_type": "code",
      "metadata": {
        "id": "0pAIt3jOwXZP"
      },
      "source": [
        "def guess(url):\n",
        "    response = requests.get(url)\n",
        "    img = Image.open(BytesIO(response.content))\n",
        "\n",
        "    results = []\n",
        "    img = cv.resize(np.float32(img), (img_width, img_height), cv.INTER_CUBIC)\n",
        "    rgb_img = cv.cvtColor(img, cv.COLOR_BGR2RGB)\n",
        "    rgb_img = np.expand_dims(rgb_img, 0)\n",
        "    preds = model.predict(rgb_img)\n",
        "    prob = np.max(preds)\n",
        "    class_id = np.argmax(preds)\n",
        "    text = ('Predict: {}, prob: {}'.format(class_names[class_id][0][0], prob))\n",
        "    results.append({'label': class_names[class_id][0][0], 'prob': '{:.4}'.format(prob)})\n",
        "    cv.imwrite('images/{}_out.png', img)\n",
        "\n",
        "    return(results)"
      ],
      "execution_count": null,
      "outputs": []
    },
    {
      "cell_type": "markdown",
      "metadata": {
        "id": "WZ0YHKAhwXZQ"
      },
      "source": [
        "### Run the Guess Function with Multiple Input Images"
      ]
    },
    {
      "cell_type": "code",
      "metadata": {
        "id": "2DXS4cIHwXZR"
      },
      "source": [
        "url_list = [\"http://cdn.shopify.com/s/files/1/1710/1473/products/LS0704-0915-3_1024x1024.jpg?v=1506931919\",\\\n",
        "           \"https://picolio.auto123.com/12photo/bmw/2012-bmw-m3_2.jpg\",\\\n",
        "           \"https://img2.carmax.com/img/vehicles/17975771/1.jpg\",\\\n",
        "           \"https://s3.ics-assets.co.uk/resized/media/img/car360_image_images/870-881337/P0oD2BMWRnAuC2kGQvYe.JPG\",\\\n",
        "           \"https://st.motortrend.com/uploads/sites/10/2015/09/2014-Aston-Martin-V8-Vantage-three-quarters-back-side-view-001.jpg\"]\n",
        "for url in url_list:\n",
        "  print(guess(url))"
      ],
      "execution_count": null,
      "outputs": []
    },
    {
      "cell_type": "code",
      "metadata": {
        "id": "8BK1UKVvwXZS"
      },
      "source": [
        "K.clear_session()"
      ],
      "execution_count": null,
      "outputs": []
    }
  ]
}