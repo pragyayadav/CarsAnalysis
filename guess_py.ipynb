{
  "nbformat": 4,
  "nbformat_minor": 0,
  "metadata": {
    "colab": {
      "name": "guess.py",
      "provenance": [],
      "authorship_tag": "ABX9TyMc2/UsY8CPvsgGKFL4lnJz",
      "include_colab_link": true
    },
    "kernelspec": {
      "name": "python3",
      "display_name": "Python 3"
    },
    "language_info": {
      "name": "python"
    }
  },
  "cells": [
    {
      "cell_type": "markdown",
      "metadata": {
        "id": "view-in-github",
        "colab_type": "text"
      },
      "source": [
        "<a href=\"https://colab.research.google.com/github/pragyayadav/CarsAnalysis/blob/main/guess_py.ipynb\" target=\"_parent\"><img src=\"https://colab.research.google.com/assets/colab-badge.svg\" alt=\"Open In Colab\"/></a>"
      ]
    },
    {
      "cell_type": "code",
      "metadata": {
        "id": "Q05ep56KwiB2"
      },
      "source": [
        "# import the necessary packages\n",
        "import json\n",
        "import os\n",
        "import random\n",
        "import numpy as np\n",
        "\n",
        "import cv2 as cv\n",
        "import keras.backend as K\n",
        "import numpy as np\n",
        "import scipy.io\n",
        "\n",
        "from PIL import Image\n",
        "import requests\n",
        "from io import BytesIO\n",
        "\n",
        "from resnets_utils import load_model\n",
        "\n",
        "if __name__ == '__main__':\n",
        "    img_width, img_height = 224, 224\n",
        "    model = load_model_and_weights()\n",
        "    model.load_weights('./weights.best.hdf5')\n",
        "\n",
        "    cars_meta = scipy.io.loadmat('devkit/cars_meta')\n",
        "    class_names = cars_meta['class_names']  # shape=(1, 196)\n",
        "    class_names = np.transpose(class_names)\n",
        "\n",
        "    url = \"https://picolio.auto123.com/12photo/bmw/2012-bmw-m3_2.jpg\"\n",
        "    response = requests.get(url)\n",
        "    img = Image.open(BytesIO(response.content))\n",
        "\n",
        "    results = []\n",
        "    print('Processing image')\n",
        "    img = cv.resize(np.float32(img), (img_width, img_height), cv.INTER_CUBIC)\n",
        "    rgb_img = cv.cvtColor(img, cv.COLOR_BGR2RGB)\n",
        "    rgb_img = np.expand_dims(rgb_img, 0)\n",
        "    preds = model.predict(rgb_img)\n",
        "    prob = np.max(preds)\n",
        "    class_id = np.argmax(preds)\n",
        "    text = ('Predict: {}, prob: {}'.format(class_names[class_id][0][0], prob))\n",
        "    results.append({'label': class_names[class_id][0][0], 'prob': '{:.4}'.format(prob)})\n",
        "    cv.imwrite('images/{}_out.png', img)\n",
        "\n",
        "    print(results)\n",
        "    with open('results.json', 'w') as file:\n",
        "        json.dump(results, file, indent=4)\n",
        "\n",
        "    K.clear_session()"
      ],
      "execution_count": null,
      "outputs": []
    }
  ]
}